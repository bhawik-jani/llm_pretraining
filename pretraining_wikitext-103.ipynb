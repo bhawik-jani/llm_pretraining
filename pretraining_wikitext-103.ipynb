{
 "cells": [
  {
   "cell_type": "code",
   "execution_count": 1,
   "id": "c6e4c88f-950e-4aed-a165-5ac5deb0e62e",
   "metadata": {},
   "outputs": [],
   "source": [
    "import matplotlib.pyplot as plt\n",
    "import torch\n",
    "from torch import nn\n",
    "from torch.nn import functional as F\n",
    "from transformer import Transformer"
   ]
  },
  {
   "cell_type": "code",
   "execution_count": 2,
   "id": "86ae9532-d7ae-4ee0-b12a-cb534523b1cb",
   "metadata": {},
   "outputs": [],
   "source": [
    "from transformers import GPT2Tokenizer\n",
    "tokenizer = GPT2Tokenizer.from_pretrained(\"gpt2\")"
   ]
  },
  {
   "cell_type": "code",
   "execution_count": 3,
   "id": "4ab56202-124f-4d33-8d48-d56e47f240cb",
   "metadata": {},
   "outputs": [
    {
     "name": "stdout",
     "output_type": "stream",
     "text": [
      "['Hello', ',', 'Ġhow', 'Ġare', 'Ġyou', '?']\n"
     ]
    }
   ],
   "source": [
    "text = \"Hello, how are you?\"\n",
    "tokens = tokenizer.tokenize(text)\n",
    "print(tokens)"
   ]
  },
  {
   "cell_type": "code",
   "execution_count": 4,
   "id": "385ea426-09a3-4abe-97d8-5f85bb9f0f23",
   "metadata": {},
   "outputs": [
    {
     "name": "stdout",
     "output_type": "stream",
     "text": [
      "tensor([15496,    11,   703,   389,   345,    30])\n"
     ]
    }
   ],
   "source": [
    "encoded = tokenizer(\"Hello, how are you?\", return_tensors=\"pt\")  # \"pt\" for PyTorch tensors\n",
    "print(encoded[\"input_ids\"][0])"
   ]
  },
  {
   "cell_type": "code",
   "execution_count": 5,
   "id": "c70187eb-24c6-4fe4-b05b-dce41426a5dc",
   "metadata": {},
   "outputs": [
    {
     "data": {
      "text/plain": [
       "{'input_ids': tensor([[15496,    11,   703,   389,   345,    30]]), 'attention_mask': tensor([[1, 1, 1, 1, 1, 1]])}"
      ]
     },
     "execution_count": 5,
     "metadata": {},
     "output_type": "execute_result"
    }
   ],
   "source": [
    "encoded"
   ]
  },
  {
   "cell_type": "code",
   "execution_count": 6,
   "id": "6be224aa-680d-485d-8edf-1cd9a4511840",
   "metadata": {
    "scrolled": true
   },
   "outputs": [
    {
     "name": "stdout",
     "output_type": "stream",
     "text": [
      "Hello, how are you?\n"
     ]
    }
   ],
   "source": [
    "decoded_text = tokenizer.decode(encoded[\"input_ids\"][0])\n",
    "print(decoded_text)"
   ]
  },
  {
   "cell_type": "code",
   "execution_count": 7,
   "id": "da30f9fc-3080-43d6-938f-4b0c92cac89e",
   "metadata": {},
   "outputs": [
    {
     "data": {
      "text/plain": [
       "50257"
      ]
     },
     "execution_count": 7,
     "metadata": {},
     "output_type": "execute_result"
    }
   ],
   "source": [
    "tokenizer.vocab_size"
   ]
  },
  {
   "cell_type": "code",
   "execution_count": 13,
   "id": "9384c10c-080e-4d40-92f8-5f7abf95f462",
   "metadata": {},
   "outputs": [],
   "source": [
    "# WikiText-103 raw dataset\n",
    "with open('wiki.train.raw', 'r') as f:\n",
    "    text = f.read()"
   ]
  },
  {
   "cell_type": "code",
   "execution_count": 14,
   "id": "cdd40a26-2d74-4a39-8f26-144c48e31646",
   "metadata": {},
   "outputs": [
    {
     "data": {
      "text/plain": [
       "' \\n = Valkyria Chronicles III = \\n \\n Senjō no Valkyria 3 : Unrecorded Chronicles ( Japanese : 戦場のヴァルキュリア3 , lit . Valkyria of the Battlefield 3 ) , commonly referred to as Valkyria Chronicles III outside Japan , is a tactical role @-@ playing video game developed by Sega and Media.Vision for the PlayStation Portable . Released in January 2011 in Japan , it is the third game in the Valkyria series . Employing the same fusion of tactical and real @-@ time gameplay as its predecessors , the story runs parallel to the first game and follows the \" Nameless \" , a penal military unit serving the nation of Gallia during the Second Europan War who perform secret black operations and are pitted against the Imperial unit \" Calamaty Raven \" . \\n The game began development in 2010 , carrying over a large portion of the work done on Valkyria Chronicles II . While it retained the standard features of the series , it also underwent multiple adjustments , such as making the game more forgiving for series '"
      ]
     },
     "execution_count": 14,
     "metadata": {},
     "output_type": "execute_result"
    }
   ],
   "source": [
    "text[:1000]"
   ]
  },
  {
   "cell_type": "code",
   "execution_count": 15,
   "id": "14105ce7-84a6-4186-8a79-340b73bd5ad7",
   "metadata": {},
   "outputs": [
    {
     "name": "stderr",
     "output_type": "stream",
     "text": [
      "Token indices sequence length is longer than the specified maximum sequence length for this model (119192782 > 1024). Running this sequence through the model will result in indexing errors\n"
     ]
    }
   ],
   "source": [
    "data = tokenizer(text, return_tensors=\"pt\")[\"input_ids\"][0]"
   ]
  },
  {
   "cell_type": "code",
   "execution_count": 8,
   "id": "cea6f9e3-1494-4f36-bcc9-8a6b8240a2da",
   "metadata": {},
   "outputs": [],
   "source": [
    "import pickle"
   ]
  },
  {
   "cell_type": "code",
   "execution_count": 17,
   "id": "75c319df-a9c4-4066-8993-167736d668de",
   "metadata": {},
   "outputs": [],
   "source": [
    "with open(\"data.pkl\", \"wb\") as f:\n",
    "    pickle.dump(data, f)"
   ]
  },
  {
   "cell_type": "code",
   "execution_count": 9,
   "id": "cd3c2c63-a707-4f0f-9d9c-776e7ebb0bd7",
   "metadata": {},
   "outputs": [],
   "source": [
    "with open(\"data.pkl\", \"rb\") as f:\n",
    "    data = pickle.load(f)"
   ]
  },
  {
   "cell_type": "code",
   "execution_count": 10,
   "id": "e1d67918-2024-4e0b-ac00-3bdc8fa8f1a9",
   "metadata": {},
   "outputs": [
    {
     "data": {
      "text/plain": [
       "119192782"
      ]
     },
     "execution_count": 10,
     "metadata": {},
     "output_type": "execute_result"
    }
   ],
   "source": [
    "len(data)"
   ]
  },
  {
   "cell_type": "code",
   "execution_count": 11,
   "id": "86d1b565-504b-4a44-b457-abb65b547ac2",
   "metadata": {},
   "outputs": [],
   "source": [
    "# Train and test splits\n",
    "n = int(0.98*len(data))\n",
    "train_data = data[:n]\n",
    "val_data = data[n:]"
   ]
  },
  {
   "cell_type": "code",
   "execution_count": 12,
   "id": "80414d81-1deb-4ed2-92c7-3ff1eb8d8fdb",
   "metadata": {},
   "outputs": [],
   "source": [
    "# data loading\n",
    "def get_batch(split):\n",
    "    data = train_data if split == 'train' else val_data\n",
    "    ix = torch.randint(len(data) - block_size, (batch_size,))\n",
    "    x = torch.stack([data[i:i+block_size] for i in ix])\n",
    "    y = torch.stack([data[i+1:i+block_size+1] for i in ix])\n",
    "    x, y = x.to(device), y.to(device)\n",
    "    return x, y"
   ]
  },
  {
   "cell_type": "code",
   "execution_count": 13,
   "id": "a8bc6840-ba69-4834-ae32-64e4b3e8b3a1",
   "metadata": {},
   "outputs": [],
   "source": [
    "class LanguageModel(nn.Module):\n",
    "\n",
    "    def __init__(self):\n",
    "        super().__init__()\n",
    "        self.embedding_layer = nn.Embedding(vocab_size, d_model)\n",
    "        self.position_embedding = nn.Embedding(block_size, d_model)\n",
    "        self.transformer = Transformer(num_layers, d_model, nhead, dim_feedforward, dropout=dropout)\n",
    "        self.final = nn.Linear(d_model, vocab_size)\n",
    "        self.apply(self._init_weights)\n",
    "\n",
    "    def _init_weights(self, module):\n",
    "        if isinstance(module, nn.Linear):\n",
    "            torch.nn.init.normal_(module.weight, mean=0.0, std=(2/d_model)**0.5)\n",
    "            if module.bias is not None:\n",
    "                torch.nn.init.zeros_(module.bias)\n",
    "        elif isinstance(module, nn.Embedding):\n",
    "            torch.nn.init.normal_(module.weight, mean=0.0, std=(2/vocab_size)**0.5)\n",
    "\n",
    "    def forward(self, x):\n",
    "        B, T = x.shape\n",
    "        tok_emb = self.embedding_layer(x) # (B,T,C)\n",
    "        pos_emb = self.position_embedding(torch.arange(T, device=device)) # (T,C)\n",
    "        x = tok_emb + pos_emb # (B,T,C)\n",
    "        x = self.transformer(x, mask=mask) # (B,T,C)\n",
    "        logits = self.final(x) # (B,T,vocab_size)\n",
    "        return logits"
   ]
  },
  {
   "cell_type": "code",
   "execution_count": 14,
   "id": "702c83fa-23d8-43af-aabb-4207ebdd0a21",
   "metadata": {},
   "outputs": [],
   "source": [
    "# hyperparameters\n",
    "batch_size = 16\n",
    "accumulation_steps = 8\n",
    "block_size = 512\n",
    "num_iters = 30000\n",
    "print_interval = 100\n",
    "val_iters = 8\n",
    "lr = 1e-4\n",
    "device = 'cuda:0' if torch.cuda.is_available() else 'cpu'\n",
    "d_model = 256\n",
    "nhead = 8\n",
    "num_layers = 8\n",
    "dropout = 0.01\n",
    "dim_feedforward = 2048\n",
    "mask = torch.tril(torch.ones(block_size,block_size)).to(device=device)\n",
    "vocab_size = tokenizer.vocab_size"
   ]
  },
  {
   "cell_type": "code",
   "execution_count": 15,
   "id": "550f6b17-4cd5-4e7a-b878-969a6ec75582",
   "metadata": {},
   "outputs": [
    {
     "name": "stdout",
     "output_type": "stream",
     "text": [
      "36.427857 M parameters\n"
     ]
    }
   ],
   "source": [
    "model = LanguageModel().to(device)\n",
    "print(sum(p.numel() for p in model.parameters())/1e6, 'M parameters')\n",
    "\n",
    "optimizer = torch.optim.AdamW(model.parameters(), lr=lr)"
   ]
  },
  {
   "cell_type": "code",
   "execution_count": 16,
   "id": "422379ef-19c5-4c3f-9443-b578db5f04b2",
   "metadata": {},
   "outputs": [
    {
     "data": {
      "image/png": "[encoded data removed]",
      "text/plain": [
       "<Figure size 800x600 with 1 Axes>"
      ]
     },
     "metadata": {},
     "output_type": "display_data"
    }
   ],
   "source": [
    "# Learning Rate Finder\n",
    "init_lr=1e-7\n",
    "final_lr=10\n",
    "num_steps=100\n",
    "lr_mult = (final_lr / init_lr) ** (1 / num_steps)\n",
    "lr = init_lr\n",
    "optimizer.param_groups[0]['lr'] = lr\n",
    "\n",
    "losses = []\n",
    "lrs = []\n",
    "best_loss = float('inf')\n",
    "\n",
    "for i in range(num_steps):\n",
    "    loss = 0\n",
    "    for _ in range(accumulation_steps):\n",
    "        x, y = get_batch('train')\n",
    "        # Forward pass\n",
    "        logits = model(x)\n",
    "        B, T, C = logits.shape\n",
    "        loss1 = F.cross_entropy(logits.view(B*T, C), y.view(B*T))\n",
    "        loss1.backward()\n",
    "        loss += loss1.item()\n",
    "\n",
    "    # Save loss and learning rate\n",
    "    lrs.append(lr)\n",
    "    losses.append(loss/accumulation_steps)\n",
    "    \n",
    "    optimizer.step()\n",
    "    optimizer.zero_grad()\n",
    "\n",
    "    # Update learning rate\n",
    "    lr *= lr_mult\n",
    "    optimizer.param_groups[0]['lr'] = lr\n",
    "\n",
    "    # Stop if loss explodes\n",
    "    if loss > best_loss * 4:\n",
    "        break\n",
    "    best_loss = min(best_loss, loss)\n",
    "\n",
    "# Plot Loss vs. Learning Rate\n",
    "plt.figure(figsize=(8,6))\n",
    "plt.plot(lrs, losses)\n",
    "plt.xscale(\"log\")\n",
    "plt.xlabel(\"Learning Rate\")\n",
    "plt.ylabel(\"Loss\")\n",
    "plt.title(\"Learning Rate Finder\")\n",
    "plt.show()"
   ]
  },
  {
   "cell_type": "code",
   "execution_count": 18,
   "id": "5cfa5d57-4845-44d1-8134-2b3887664033",
   "metadata": {},
   "outputs": [],
   "source": [
    "lr = 5e-4"
   ]
  },
  {
   "cell_type": "code",
   "execution_count": 19,
   "id": "ba945fc3-8234-4a02-8c69-9c70182dc9e0",
   "metadata": {},
   "outputs": [],
   "source": [
    "from torch.amp import autocast, GradScaler\n",
    "\n",
    "scaler = GradScaler()"
   ]
  },
  {
   "cell_type": "code",
   "execution_count": 17,
   "id": "a8b441fc-f02b-44c1-9daf-a6810a97e7cd",
   "metadata": {
    "scrolled": true
   },
   "outputs": [
    {
     "name": "stdout",
     "output_type": "stream",
     "text": [
      "36.427857 M parameters\n",
      "step 0: train loss 11.9463, val loss 11.9890\n",
      "step 100: train loss 9.7120, val loss 8.5444\n",
      "step 200: train loss 7.8879, val loss 7.4303\n",
      "step 300: train loss 7.1806, val loss 6.9855\n",
      "step 400: train loss 6.9309, val loss 6.8394\n",
      "step 500: train loss 6.7922, val loss 6.7067\n",
      "step 600: train loss 6.6918, val loss 6.6509\n",
      "step 700: train loss 6.6037, val loss 6.5724\n",
      "step 800: train loss 6.5215, val loss 6.4966\n",
      "step 900: train loss 6.4479, val loss 6.3729\n",
      "step 1000: train loss 6.3569, val loss 6.3653\n",
      "step 1100: train loss 6.2917, val loss 6.3377\n",
      "step 1200: train loss 6.2075, val loss 6.1762\n",
      "step 1300: train loss 6.1872, val loss 6.1508\n",
      "step 1400: train loss 6.1209, val loss 6.0878\n",
      "step 1500: train loss 6.0859, val loss 6.0271\n",
      "step 1600: train loss 6.0358, val loss 6.0156\n",
      "step 1700: train loss 6.0069, val loss 5.9890\n",
      "step 1800: train loss 5.9792, val loss 5.9009\n",
      "step 1900: train loss 5.9226, val loss 5.9227\n",
      "step 2000: train loss 5.9114, val loss 5.9347\n",
      "step 2100: train loss 5.8977, val loss 5.8973\n",
      "step 2200: train loss 5.8402, val loss 5.8698\n",
      "step 2300: train loss 5.8171, val loss 5.8613\n",
      "step 2400: train loss 5.8020, val loss 5.8062\n",
      "step 2500: train loss 5.7741, val loss 5.7003\n",
      "step 2600: train loss 5.7313, val loss 5.7568\n",
      "step 2700: train loss 5.6970, val loss 5.7330\n",
      "step 2800: train loss 5.6751, val loss 5.6863\n",
      "step 2900: train loss 5.6446, val loss 5.6647\n",
      "step 3000: train loss 5.6200, val loss 5.6486\n",
      "step 3100: train loss 5.6043, val loss 5.5825\n",
      "step 3200: train loss 5.5887, val loss 5.5797\n",
      "step 3300: train loss 5.5344, val loss 5.5767\n",
      "step 3400: train loss 5.5140, val loss 5.5182\n",
      "step 3500: train loss 5.5166, val loss 5.4790\n",
      "step 3600: train loss 5.4720, val loss 5.4795\n",
      "step 3700: train loss 5.4706, val loss 5.4855\n",
      "step 3800: train loss 5.4357, val loss 5.4505\n",
      "step 3900: train loss 5.4150, val loss 5.4019\n",
      "step 4000: train loss 5.3960, val loss 5.4154\n",
      "step 4100: train loss 5.3728, val loss 5.3895\n",
      "step 4200: train loss 5.3481, val loss 5.4156\n",
      "step 4300: train loss 5.3271, val loss 5.3486\n",
      "step 4400: train loss 5.2972, val loss 5.3227\n",
      "step 4500: train loss 5.2948, val loss 5.3433\n",
      "step 4600: train loss 5.2512, val loss 5.3164\n",
      "step 4700: train loss 5.2624, val loss 5.2866\n",
      "step 4800: train loss 5.2310, val loss 5.2175\n",
      "step 4900: train loss 5.2114, val loss 5.2366\n",
      "step 5000: train loss 5.1784, val loss 5.2117\n",
      "step 5100: train loss 5.1964, val loss 5.2376\n",
      "step 5200: train loss 5.1827, val loss 5.1155\n",
      "step 5300: train loss 5.1451, val loss 5.1237\n",
      "step 5400: train loss 5.1311, val loss 5.1402\n",
      "step 5500: train loss 5.1141, val loss 5.2272\n",
      "step 5600: train loss 5.0837, val loss 5.1806\n",
      "step 5700: train loss 5.0825, val loss 5.1690\n",
      "step 5800: train loss 5.0923, val loss 5.1453\n",
      "step 5900: train loss 5.0668, val loss 5.1507\n",
      "step 6000: train loss 5.0453, val loss 5.0809\n",
      "step 6100: train loss 5.0303, val loss 5.0709\n",
      "step 6200: train loss 5.0453, val loss 5.0798\n",
      "step 6300: train loss 5.0280, val loss 5.0218\n",
      "step 6400: train loss 5.0243, val loss 5.0764\n",
      "step 6500: train loss 4.9864, val loss 5.0482\n",
      "step 6600: train loss 4.9777, val loss 5.0392\n",
      "step 6700: train loss 4.9875, val loss 5.0365\n",
      "step 6800: train loss 4.9913, val loss 5.0473\n",
      "step 6900: train loss 4.9671, val loss 5.0305\n",
      "step 7000: train loss 4.9421, val loss 4.9308\n",
      "step 7100: train loss 4.9368, val loss 4.9234\n",
      "step 7200: train loss 4.9437, val loss 4.9536\n",
      "step 7300: train loss 4.8960, val loss 5.0444\n",
      "step 7400: train loss 4.9132, val loss 4.8950\n",
      "step 7500: train loss 4.9055, val loss 4.9666\n",
      "step 7600: train loss 4.9035, val loss 4.8820\n",
      "step 7700: train loss 4.8744, val loss 4.9925\n",
      "step 7800: train loss 4.8557, val loss 4.9411\n",
      "step 7900: train loss 4.8499, val loss 4.8449\n",
      "step 8000: train loss 4.8564, val loss 4.8355\n",
      "step 8100: train loss 4.8361, val loss 4.8950\n",
      "step 8200: train loss 4.8074, val loss 4.8347\n",
      "step 8300: train loss 4.8300, val loss 4.8595\n",
      "step 8400: train loss 4.8234, val loss 4.8634\n",
      "step 8500: train loss 4.8136, val loss 4.8136\n",
      "step 8600: train loss 4.7955, val loss 4.8437\n",
      "step 8700: train loss 4.7709, val loss 4.8736\n",
      "step 8800: train loss 4.7784, val loss 4.8554\n",
      "step 8900: train loss 4.7588, val loss 4.7784\n",
      "step 9000: train loss 4.7733, val loss 4.8662\n",
      "step 9100: train loss 4.7635, val loss 4.7946\n",
      "step 9200: train loss 4.7486, val loss 4.7984\n",
      "step 9300: train loss 4.7416, val loss 4.7984\n",
      "step 9400: train loss 4.7469, val loss 4.8370\n",
      "step 9500: train loss 4.7238, val loss 4.7779\n",
      "step 9600: train loss 4.7370, val loss 4.7199\n",
      "step 9700: train loss 4.7259, val loss 4.8086\n",
      "step 9800: train loss 4.6860, val loss 4.7099\n",
      "step 9900: train loss 4.7184, val loss 4.7331\n",
      "step 10000: train loss 4.6834, val loss 4.7647\n",
      "step 10100: train loss 4.6959, val loss 4.8300\n",
      "step 10200: train loss 4.6749, val loss 4.6994\n",
      "step 10300: train loss 4.6838, val loss 4.7671\n",
      "step 10400: train loss 4.6729, val loss 4.6780\n",
      "step 10500: train loss 4.6689, val loss 4.7603\n",
      "step 10600: train loss 4.6361, val loss 4.7034\n",
      "step 10700: train loss 4.6370, val loss 4.7149\n",
      "step 10800: train loss 4.6263, val loss 4.7165\n",
      "step 10900: train loss 4.6688, val loss 4.6617\n",
      "step 11000: train loss 4.6624, val loss 4.7444\n",
      "step 11100: train loss 4.6331, val loss 4.6589\n",
      "step 11200: train loss 4.6456, val loss 4.6278\n",
      "step 11300: train loss 4.6165, val loss 4.7715\n",
      "step 11400: train loss 4.6303, val loss 4.6505\n",
      "step 11500: train loss 4.6031, val loss 4.6924\n",
      "step 11600: train loss 4.6380, val loss 4.7086\n",
      "step 11700: train loss 4.6051, val loss 4.6855\n",
      "step 11800: train loss 4.6042, val loss 4.7202\n",
      "step 11900: train loss 4.5958, val loss 4.5763\n",
      "step 12000: train loss 4.5755, val loss 4.5475\n",
      "step 12100: train loss 4.5676, val loss 4.6350\n",
      "step 12200: train loss 4.5845, val loss 4.5499\n",
      "step 12300: train loss 4.5573, val loss 4.5437\n",
      "step 12400: train loss 4.5504, val loss 4.5605\n",
      "step 12500: train loss 4.5716, val loss 4.6130\n",
      "step 12600: train loss 4.5854, val loss 4.5707\n",
      "step 12700: train loss 4.5601, val loss 4.5700\n",
      "step 12800: train loss 4.5407, val loss 4.6101\n",
      "step 12900: train loss 4.5216, val loss 4.6566\n",
      "step 13000: train loss 4.5265, val loss 4.5916\n",
      "step 13100: train loss 4.5588, val loss 4.6906\n",
      "step 13200: train loss 4.5266, val loss 4.5873\n",
      "step 13300: train loss 4.5410, val loss 4.5831\n",
      "step 13400: train loss 4.4992, val loss 4.5581\n",
      "step 13500: train loss 4.5388, val loss 4.6060\n",
      "step 13600: train loss 4.5155, val loss 4.6001\n",
      "step 13700: train loss 4.5184, val loss 4.5201\n",
      "step 13800: train loss 4.4761, val loss 4.5484\n",
      "step 13900: train loss 4.4984, val loss 4.6108\n",
      "step 14000: train loss 4.5086, val loss 4.5623\n",
      "step 14100: train loss 4.4959, val loss 4.5957\n",
      "step 14200: train loss 4.4783, val loss 4.5260\n",
      "step 14300: train loss 4.4701, val loss 4.4480\n",
      "step 14400: train loss 4.4730, val loss 4.5357\n",
      "step 14500: train loss 4.4759, val loss 4.5828\n",
      "step 14600: train loss 4.4740, val loss 4.5702\n",
      "step 14700: train loss 4.4647, val loss 4.4277\n",
      "step 14800: train loss 4.4605, val loss 4.5166\n",
      "step 14900: train loss 4.4564, val loss 4.5175\n",
      "step 15000: train loss 4.4525, val loss 4.5981\n",
      "step 15100: train loss 4.4806, val loss 4.4643\n",
      "step 15200: train loss 4.4530, val loss 4.5180\n",
      "step 15300: train loss 4.4527, val loss 4.5166\n",
      "step 15400: train loss 4.4412, val loss 4.5015\n",
      "step 15500: train loss 4.4444, val loss 4.5548\n",
      "step 15600: train loss 4.4205, val loss 4.4550\n",
      "step 15700: train loss 4.4501, val loss 4.5626\n",
      "step 15800: train loss 4.3929, val loss 4.5084\n",
      "step 15900: train loss 4.4125, val loss 4.4755\n",
      "step 16000: train loss 4.4147, val loss 4.4653\n",
      "step 16100: train loss 4.4212, val loss 4.5066\n",
      "step 16200: train loss 4.4069, val loss 4.4826\n",
      "step 16300: train loss 4.4027, val loss 4.3947\n",
      "step 16400: train loss 4.4245, val loss 4.4599\n",
      "step 16500: train loss 4.3915, val loss 4.4892\n",
      "step 16600: train loss 4.4335, val loss 4.4925\n",
      "step 16700: train loss 4.3953, val loss 4.4501\n",
      "step 16800: train loss 4.3946, val loss 4.4699\n",
      "step 16900: train loss 4.3866, val loss 4.3512\n",
      "step 17000: train loss 4.3705, val loss 4.4164\n",
      "step 17100: train loss 4.3796, val loss 4.3907\n",
      "step 17200: train loss 4.3719, val loss 4.4722\n",
      "step 17300: train loss 4.3535, val loss 4.5224\n",
      "step 17400: train loss 4.3631, val loss 4.5076\n",
      "step 17500: train loss 4.3541, val loss 4.4496\n",
      "step 17600: train loss 4.3998, val loss 4.4235\n",
      "step 17700: train loss 4.3749, val loss 4.4676\n",
      "step 17800: train loss 4.3459, val loss 4.3433\n",
      "step 17900: train loss 4.3624, val loss 4.4253\n",
      "step 18000: train loss 4.3533, val loss 4.3988\n",
      "step 18100: train loss 4.3576, val loss 4.4024\n",
      "step 18200: train loss 4.3564, val loss 4.3974\n",
      "step 18300: train loss 4.3429, val loss 4.4909\n",
      "step 18400: train loss 4.3262, val loss 4.5002\n",
      "step 18500: train loss 4.3259, val loss 4.4013\n",
      "step 18600: train loss 4.3490, val loss 4.3499\n",
      "step 18700: train loss 4.3219, val loss 4.4365\n",
      "step 18800: train loss 4.3081, val loss 4.3126\n",
      "step 18900: train loss 4.3229, val loss 4.3843\n",
      "step 19000: train loss 4.3252, val loss 4.3477\n",
      "step 19100: train loss 4.3233, val loss 4.3363\n",
      "step 19200: train loss 4.2934, val loss 4.4486\n",
      "step 19300: train loss 4.3294, val loss 4.3613\n",
      "step 19400: train loss 4.3047, val loss 4.3199\n",
      "step 19500: train loss 4.3074, val loss 4.3482\n",
      "step 19600: train loss 4.3240, val loss 4.3835\n",
      "step 19700: train loss 4.3020, val loss 4.4119\n",
      "step 19800: train loss 4.2802, val loss 4.4146\n",
      "step 19900: train loss 4.2989, val loss 4.3394\n",
      "step 20000: train loss 4.3025, val loss 4.3680\n",
      "step 20100: train loss 4.2868, val loss 4.2760\n",
      "step 20200: train loss 4.2992, val loss 4.3970\n",
      "step 20300: train loss 4.2763, val loss 4.3796\n",
      "step 20400: train loss 4.2777, val loss 4.3703\n",
      "step 20500: train loss 4.2795, val loss 4.4002\n",
      "step 20600: train loss 4.2527, val loss 4.3794\n",
      "step 20700: train loss 4.2584, val loss 4.3821\n",
      "step 20800: train loss 4.2608, val loss 4.3237\n",
      "step 20900: train loss 4.2902, val loss 4.3012\n",
      "step 21000: train loss 4.2672, val loss 4.3679\n",
      "step 21100: train loss 4.2541, val loss 4.4792\n",
      "step 21200: train loss 4.2473, val loss 4.3359\n",
      "step 21300: train loss 4.2622, val loss 4.2852\n",
      "step 21400: train loss 4.2521, val loss 4.4018\n",
      "step 21500: train loss 4.2369, val loss 4.3259\n",
      "step 21600: train loss 4.2497, val loss 4.2752\n",
      "step 21700: train loss 4.2648, val loss 4.3055\n",
      "step 21800: train loss 4.2428, val loss 4.3040\n",
      "step 21900: train loss 4.2504, val loss 4.3282\n",
      "step 22000: train loss 4.2499, val loss 4.3208\n",
      "step 22100: train loss 4.2486, val loss 4.3425\n",
      "step 22200: train loss 4.2284, val loss 4.3738\n",
      "step 22300: train loss 4.2456, val loss 4.3751\n",
      "step 22400: train loss 4.2435, val loss 4.3591\n",
      "step 22500: train loss 4.2285, val loss 4.3961\n",
      "step 22600: train loss 4.2305, val loss 4.3870\n",
      "step 22700: train loss 4.2119, val loss 4.3203\n",
      "step 22800: train loss 4.2287, val loss 4.3710\n",
      "step 22900: train loss 4.2215, val loss 4.3144\n",
      "step 23000: train loss 4.2114, val loss 4.4001\n",
      "step 23100: train loss 4.2199, val loss 4.2638\n",
      "step 23200: train loss 4.2166, val loss 4.3144\n",
      "step 23300: train loss 4.2274, val loss 4.2696\n",
      "step 23400: train loss 4.2065, val loss 4.1639\n",
      "step 23500: train loss 4.1955, val loss 4.3192\n",
      "step 23600: train loss 4.1953, val loss 4.2248\n",
      "step 23700: train loss 4.2138, val loss 4.3093\n",
      "step 23800: train loss 4.2071, val loss 4.2855\n",
      "step 23900: train loss 4.1845, val loss 4.2923\n",
      "step 24000: train loss 4.2107, val loss 4.3171\n",
      "step 24100: train loss 4.2089, val loss 4.2351\n",
      "step 24200: train loss 4.1704, val loss 4.2842\n",
      "step 24300: train loss 4.1761, val loss 4.2717\n",
      "step 24400: train loss 4.1994, val loss 4.2408\n",
      "step 24500: train loss 4.1936, val loss 4.3113\n",
      "step 24600: train loss 4.1754, val loss 4.2773\n",
      "step 24700: train loss 4.1861, val loss 4.3208\n",
      "step 24800: train loss 4.1902, val loss 4.3200\n",
      "step 24900: train loss 4.1944, val loss 4.3483\n",
      "step 25000: train loss 4.1682, val loss 4.3108\n",
      "step 25100: train loss 4.1859, val loss 4.2397\n",
      "step 25200: train loss 4.1542, val loss 4.3006\n",
      "step 25300: train loss 4.1672, val loss 4.2770\n",
      "step 25400: train loss 4.1768, val loss 4.2347\n",
      "step 25500: train loss 4.1782, val loss 4.2574\n",
      "step 25600: train loss 4.1685, val loss 4.2697\n",
      "step 25700: train loss 4.1572, val loss 4.2900\n",
      "step 25800: train loss 4.1291, val loss 4.2498\n",
      "step 25900: train loss 4.1489, val loss 4.2518\n",
      "step 26000: train loss 4.1545, val loss 4.2826\n",
      "step 26100: train loss 4.1430, val loss 4.2005\n",
      "step 26200: train loss 4.1606, val loss 4.2208\n",
      "step 26300: train loss 4.1495, val loss 4.2839\n",
      "step 26400: train loss 4.1603, val loss 4.2196\n",
      "step 26500: train loss 4.1413, val loss 4.2485\n",
      "step 26600: train loss 4.1313, val loss 4.3065\n",
      "step 26700: train loss 4.1198, val loss 4.2876\n",
      "step 26800: train loss 4.1406, val loss 4.2765\n",
      "step 26900: train loss 4.1471, val loss 4.2465\n",
      "step 27000: train loss 4.1406, val loss 4.2883\n",
      "step 27100: train loss 4.1193, val loss 4.1881\n",
      "step 27200: train loss 4.1257, val loss 4.2055\n",
      "step 27300: train loss 4.1400, val loss 4.2221\n",
      "step 27400: train loss 4.1332, val loss 4.2202\n",
      "step 27500: train loss 4.1260, val loss 4.3269\n",
      "step 27600: train loss 4.1336, val loss 4.2515\n",
      "step 27700: train loss 4.1233, val loss 4.2408\n",
      "step 27800: train loss 4.1241, val loss 4.2168\n",
      "step 27900: train loss 4.1325, val loss 4.1319\n",
      "step 28000: train loss 4.1250, val loss 4.1884\n",
      "step 28100: train loss 4.1301, val loss 4.2462\n",
      "step 28200: train loss 4.1038, val loss 4.2193\n",
      "step 28300: train loss 4.1171, val loss 4.2396\n",
      "step 28400: train loss 4.1167, val loss 4.2369\n",
      "step 28500: train loss 4.1253, val loss 4.2539\n",
      "step 28600: train loss 4.0892, val loss 4.2354\n",
      "step 28700: train loss 4.0844, val loss 4.1827\n",
      "step 28800: train loss 4.0865, val loss 4.2082\n",
      "step 28900: train loss 4.1240, val loss 4.1681\n",
      "step 29000: train loss 4.0968, val loss 4.1426\n",
      "step 29100: train loss 4.0843, val loss 4.2212\n",
      "step 29200: train loss 4.1083, val loss 4.2392\n",
      "step 29300: train loss 4.1004, val loss 4.1010\n",
      "step 29400: train loss 4.0587, val loss 4.1446\n",
      "step 29500: train loss 4.0890, val loss 4.2109\n",
      "step 29600: train loss 4.0798, val loss 4.1709\n",
      "step 29700: train loss 4.0953, val loss 4.1308\n",
      "step 29800: train loss 4.0856, val loss 4.2623\n",
      "step 29900: train loss 4.0826, val loss 4.1335\n",
      "step 29999: train loss 4.0383, val loss 4.2073\n"
     ]
    }
   ],
   "source": [
    "model = LanguageModel().to(device)\n",
    "print(sum(p.numel() for p in model.parameters())/1e6, 'M parameters')\n",
    "\n",
    "optimizer = torch.optim.AdamW(model.parameters(), lr=lr)\n",
    "\n",
    "train_loss = 0\n",
    "val_loss = 0\n",
    "for n in range(num_iters):\n",
    "    x, y = get_batch('train')\n",
    "    with autocast(device_type=\"cuda\"):\n",
    "        logits = model(x)\n",
    "        B, T, C = logits.shape\n",
    "        loss = F.cross_entropy(logits.view(B*T, C), y.view(B*T)) #/ accumulation_steps\n",
    "    scaler.scale(loss).backward()\n",
    "    if (n + 1) % accumulation_steps == 0:\n",
    "        scaler.step(optimizer)\n",
    "        scaler.update()\n",
    "        optimizer.zero_grad()\n",
    "    with torch.no_grad():\n",
    "        train_loss += loss #* accumulation_steps\n",
    "        if (n % print_interval == 0 or n == num_iters - 1):\n",
    "            model.eval()\n",
    "            for _ in range(val_iters):\n",
    "                x, y = get_batch('val')\n",
    "                logits = model(x)\n",
    "                B, T, C = logits.shape\n",
    "                val_loss += F.cross_entropy(logits.view(B*T, C), y.view(B*T))\n",
    "            if n==0:\n",
    "                print(f\"step {n}: train loss {train_loss:.4f}, val loss {val_loss/val_iters:.4f}\")\n",
    "            else:\n",
    "                print(f\"step {n}: train loss {train_loss/print_interval:.4f}, val loss {val_loss/val_iters:.4f}\")\n",
    "            train_loss = 0\n",
    "            val_loss = 0\n",
    "            model.train()"
   ]
  },
  {
   "cell_type": "code",
   "execution_count": 18,
   "id": "101e42da-a270-4caa-b079-4dbc0d806b08",
   "metadata": {},
   "outputs": [],
   "source": [
    "torch.save({\n",
    "    \"model_state\": model.state_dict(),\n",
    "    \"optimizer_state\": optimizer.state_dict(),\n",
    "}, \"wiki103_checkpoint.pth\")"
   ]
  },
  {
   "cell_type": "code",
   "execution_count": 22,
   "id": "42bf4eaf-766f-4ddc-a7c6-6bccc8a954cc",
   "metadata": {},
   "outputs": [
    {
     "name": "stdout",
     "output_type": "stream",
     "text": [
      "36.427857 M parameters\n"
     ]
    }
   ],
   "source": [
    "model = LanguageModel()\n",
    "checkpoint = torch.load(\"wiki103_checkpoint.pth\")\n",
    "model.load_state_dict(checkpoint[\"model_state\"])\n",
    "model = model.to(device)\n",
    "optimizer = torch.optim.AdamW(model.parameters(), lr=lr)\n",
    "optimizer.load_state_dict(checkpoint[\"optimizer_state\"])\n",
    "# print the number of parameters in the model\n",
    "print(sum(p.numel() for p in model.parameters())/1e6, 'M parameters')"
   ]
  },
  {
   "cell_type": "code",
   "execution_count": 48,
   "id": "9c7adc4f-b6ec-4bd5-8996-c839f7ffc758",
   "metadata": {},
   "outputs": [],
   "source": [
    "def generate(model, x, max_new_tokens, temperature=1):\n",
    "    for _ in range(max_new_tokens):\n",
    "        x_cond = x[:, -block_size:]\n",
    "        logits = model(x_cond)\n",
    "        probs = F.softmax(logits[:, -1, :]/temperature, dim=-1) # (B, C)\n",
    "        # sample from the distribution\n",
    "        x_next = torch.multinomial(probs, num_samples=1) # (B, 1)\n",
    "        # append sampled index to the running sequence\n",
    "        x = torch.cat((x, x_next), dim=1) # (B, T+1)\n",
    "    return x"
   ]
  },
  {
   "cell_type": "code",
   "execution_count": 50,
   "id": "f6342a58-c61c-4bf3-8da7-f8fb8cfa808c",
   "metadata": {},
   "outputs": [
    {
     "name": "stdout",
     "output_type": "stream",
     "text": [
      " \n",
      " \n",
      " = = = = New Blue = = = = \n",
      " \n",
      " The White Black mode contains three Lola discs : Troutband Dovictus - Obf3 , eight tailed formed onto traditional English content . \n",
      " \n",
      " = = = Potscape = = = \n",
      " \n",
      " The game focuses on its very unresolved distress phenomenon , characterized by density , range , and often drive potential effects . \n",
      " Technical glass and separating the theoretical routers , such as the previous two discs at the Apple Features ' independent term hardware , is used in Live Productions ' to grind into a space . The chain interface is difficult because it can open cents using digital acids , card sections , at night , and it allows green to be used for local geometry . These , though cut pieces formed from St Pancras .. A portable magnetized capitalist , is required for these titles , while the Webks , many of the old sections in twisted stabilized algorithms , were easily produced in the action and floral interstates VHARD to addition them to R & B 1950 . \n",
      " Camouflage tracks with people with the Matty A + . The Rapture iodide is incorporated in an editorial view that features the yellow cap strip colour and sets of patches used by the fair patterns and visual models . In 1965 , it was issued codonular analysis with one in 2007 reasoning . Requiring the projections was used after smaller scale . The system of all the filters of the silvery @-@ cream 3 are the cartridge @-@ bearing color and canvas rear is used . \n",
      " The track and disc compatible lyrics results are less involved : the packaging can be incorporated into radial @-@ sofa ( range ) . The 1999 edition of Future Network it uses the 50th Fuensee , directed by Gil Stsem Clop , and features the voiced innovation of Arnold Scott , which scenes similar to Escape from Instable Game Analysis by Drake and Greg Van Mask . Acht @-@ Merit @-@ Peck @-@ Mazal Association also uses sites for the Insy @-@ Earth ( VHSB Digital 5 ) in which mixed with dimensions of Turbo ( PfIAL ) , as the bonus system 's volume permits further changing the iPad 2NR fans as well as drawingable difficultyally specresses . A unique addition of critical programming , Pico Computing headquarters is included in menus . \n",
      " \n",
      " = = Reception = = \n",
      " \n",
      " \n",
      " = = =\n"
     ]
    }
   ],
   "source": [
    "context = tokenizer(\" \", return_tensors=\"pt\")[\"input_ids\"].to(device=device)\n",
    "print(tokenizer.decode(generate(model, context, max_new_tokens=500)[0].tolist()))"
   ]
  },
  {
   "cell_type": "code",
   "execution_count": null,
   "id": "b082039d-8c19-46e9-b1d6-6c488e95cadb",
   "metadata": {},
   "outputs": [],
   "source": []
  }
 ],
 "metadata": {
  "kernelspec": {
   "display_name": "Python 3 (ipykernel)",
   "language": "python",
   "name": "python3"
  },
  "language_info": {
   "codemirror_mode": {
    "name": "ipython",
    "version": 3
   },
   "file_extension": ".py",
   "mimetype": "text/x-python",
   "name": "python",
   "nbconvert_exporter": "python",
   "pygments_lexer": "ipython3",
   "version": "3.12.9"
  }
 },
 "nbformat": 4,
 "nbformat_minor": 5
}
